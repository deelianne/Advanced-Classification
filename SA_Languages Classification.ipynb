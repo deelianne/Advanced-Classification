{
 "cells": [
  {
   "cell_type": "markdown",
   "id": "b9fd95ed",
   "metadata": {},
   "source": [
    "## EXPLORE Data Science Academy Classification Hackathon\n",
    "\n",
    "**Overview**\n",
    "\n",
    "South Africa is a multicultural society that is characterised by its rich linguistic diversity. Language is an indispensable tool that can be used to deepen democracy and also contribute to the social, cultural, intellectual, economic and political life of the South African society.\n",
    "\n",
    "The country is multilingual with 11 official languages, each of which is guaranteed equal status. Most South Africans are multilingual and able to speak at least two or more of the official languages. \n",
    "With such a multilingual population, it is only obvious that our systems and devices also communicate in multi-languages.\n",
    "\n",
    "In this challenge, you will take text which is in any of South Africa's 11 Official languages and identify which language the text is in. This is an example of NLP's Language Identification, the task of determining the natural language that a piece of text is written in."
   ]
  },
  {
   "cell_type": "markdown",
   "id": "98ffb52f",
   "metadata": {},
   "source": [
    "## Importing Libraries"
   ]
  },
  {
   "cell_type": "code",
   "execution_count": 42,
   "id": "e6f01eca",
   "metadata": {},
   "outputs": [],
   "source": [
    "import pandas as pd\n",
    "import numpy as np\n",
    "import re\n",
    "import string\n",
    "\n",
    "import codecs\n",
    "\n",
    "import seaborn as sns\n",
    "import matplotlib.pyplot as plt\n",
    "\n",
    "\n",
    "from sklearn import feature_extraction\n",
    "from sklearn import pipeline\n",
    "from sklearn.model_selection import train_test_split\n",
    "from sklearn.metrics import f1_score\n",
    "from sklearn import metrics\n",
    "\n",
    "\n",
    "# Models\n",
    "from sklearn.feature_extraction.text import CountVectorizer\n",
    "from sklearn.feature_extraction.text import TfidfVectorizer\n",
    "from sklearn.metrics import classification_report, confusion_matrix, accuracy_score, recall_score, precision_score\n",
    "from sklearn.ensemble import GradientBoostingClassifier\n",
    "from sklearn.linear_model import LogisticRegression, SGDClassifier, RidgeClassifier\n",
    "from sklearn.ensemble import RandomForestClassifier\n",
    "from sklearn.neighbors import KNeighborsClassifier\n",
    "from sklearn.tree import DecisionTreeClassifier\n",
    "from sklearn.naive_bayes import MultinomialNB, ComplementNB\n",
    "from sklearn.svm import LinearSVC, SVC\n",
    "from sklearn.model_selection import GridSearchCV, StratifiedKFold, KFold\n",
    "from sklearn.model_selection import cross_val_score, RepeatedStratifiedKFold\n",
    "\n",
    "from sklearn import metrics\n",
    "from sklearn.pipeline import Pipeline\n",
    "\n",
    "import warnings\n",
    "warnings.filterwarnings('ignore', category=FutureWarning)\n",
    "warnings.filterwarnings('ignore', category=DeprecationWarning)\n",
    "\n",
    "import warnings\n",
    "warnings.simplefilter(\"ignore\")"
   ]
  },
  {
   "cell_type": "markdown",
   "id": "e130b9f4",
   "metadata": {},
   "source": [
    "## Loading Data"
   ]
  },
  {
   "cell_type": "code",
   "execution_count": 2,
   "id": "723faec7",
   "metadata": {},
   "outputs": [],
   "source": [
    "df = pd.read_csv('train_set.csv', encoding='UTF-8')\n",
    "test_df = pd.read_csv('test_set.csv' ,encoding='UTF-8')\n",
    "df_copy = df.copy()"
   ]
  },
  {
   "cell_type": "code",
   "execution_count": 3,
   "id": "374e28d4",
   "metadata": {
    "scrolled": true
   },
   "outputs": [
    {
     "data": {
      "text/html": [
       "<div>\n",
       "<style scoped>\n",
       "    .dataframe tbody tr th:only-of-type {\n",
       "        vertical-align: middle;\n",
       "    }\n",
       "\n",
       "    .dataframe tbody tr th {\n",
       "        vertical-align: top;\n",
       "    }\n",
       "\n",
       "    .dataframe thead th {\n",
       "        text-align: right;\n",
       "    }\n",
       "</style>\n",
       "<table border=\"1\" class=\"dataframe\">\n",
       "  <thead>\n",
       "    <tr style=\"text-align: right;\">\n",
       "      <th></th>\n",
       "      <th>lang_id</th>\n",
       "      <th>text</th>\n",
       "    </tr>\n",
       "  </thead>\n",
       "  <tbody>\n",
       "    <tr>\n",
       "      <th>0</th>\n",
       "      <td>xho</td>\n",
       "      <td>umgaqo-siseko wenza amalungiselelo kumaziko ax...</td>\n",
       "    </tr>\n",
       "    <tr>\n",
       "      <th>1</th>\n",
       "      <td>xho</td>\n",
       "      <td>i-dha iya kuba nobulumko bokubeka umsebenzi na...</td>\n",
       "    </tr>\n",
       "    <tr>\n",
       "      <th>2</th>\n",
       "      <td>eng</td>\n",
       "      <td>the province of kwazulu-natal department of tr...</td>\n",
       "    </tr>\n",
       "    <tr>\n",
       "      <th>3</th>\n",
       "      <td>nso</td>\n",
       "      <td>o netefatša gore o ba file dilo ka moka tše le...</td>\n",
       "    </tr>\n",
       "    <tr>\n",
       "      <th>4</th>\n",
       "      <td>ven</td>\n",
       "      <td>khomishini ya ndinganyiso ya mbeu yo ewa maana...</td>\n",
       "    </tr>\n",
       "  </tbody>\n",
       "</table>\n",
       "</div>"
      ],
      "text/plain": [
       "  lang_id                                               text\n",
       "0     xho  umgaqo-siseko wenza amalungiselelo kumaziko ax...\n",
       "1     xho  i-dha iya kuba nobulumko bokubeka umsebenzi na...\n",
       "2     eng  the province of kwazulu-natal department of tr...\n",
       "3     nso  o netefatša gore o ba file dilo ka moka tše le...\n",
       "4     ven  khomishini ya ndinganyiso ya mbeu yo ewa maana..."
      ]
     },
     "execution_count": 3,
     "metadata": {},
     "output_type": "execute_result"
    }
   ],
   "source": [
    "df.head()"
   ]
  },
  {
   "cell_type": "markdown",
   "id": "10d15138",
   "metadata": {},
   "source": [
    "## Exploratory Data Analysis"
   ]
  },
  {
   "cell_type": "code",
   "execution_count": 6,
   "id": "6960a75b",
   "metadata": {
    "scrolled": false
   },
   "outputs": [
    {
     "data": {
      "text/html": [
       "<div>\n",
       "<style scoped>\n",
       "    .dataframe tbody tr th:only-of-type {\n",
       "        vertical-align: middle;\n",
       "    }\n",
       "\n",
       "    .dataframe tbody tr th {\n",
       "        vertical-align: top;\n",
       "    }\n",
       "\n",
       "    .dataframe thead th {\n",
       "        text-align: right;\n",
       "    }\n",
       "</style>\n",
       "<table border=\"1\" class=\"dataframe\">\n",
       "  <thead>\n",
       "    <tr style=\"text-align: right;\">\n",
       "      <th></th>\n",
       "      <th>lang_id</th>\n",
       "      <th>text</th>\n",
       "    </tr>\n",
       "  </thead>\n",
       "  <tbody>\n",
       "    <tr>\n",
       "      <th>count</th>\n",
       "      <td>33000</td>\n",
       "      <td>33000</td>\n",
       "    </tr>\n",
       "    <tr>\n",
       "      <th>unique</th>\n",
       "      <td>11</td>\n",
       "      <td>29948</td>\n",
       "    </tr>\n",
       "    <tr>\n",
       "      <th>top</th>\n",
       "      <td>afr</td>\n",
       "      <td>ngokwesekhtjheni yomthetho ophathelene nalokhu...</td>\n",
       "    </tr>\n",
       "    <tr>\n",
       "      <th>freq</th>\n",
       "      <td>3000</td>\n",
       "      <td>17</td>\n",
       "    </tr>\n",
       "  </tbody>\n",
       "</table>\n",
       "</div>"
      ],
      "text/plain": [
       "       lang_id                                               text\n",
       "count    33000                                              33000\n",
       "unique      11                                              29948\n",
       "top        afr  ngokwesekhtjheni yomthetho ophathelene nalokhu...\n",
       "freq      3000                                                 17"
      ]
     },
     "execution_count": 6,
     "metadata": {},
     "output_type": "execute_result"
    }
   ],
   "source": [
    "df.describe()"
   ]
  },
  {
   "cell_type": "markdown",
   "id": "a8f26fe3",
   "metadata": {},
   "source": [
    "The dataset has a count of 33000 features for text and lang_id. 11 unique features for the lang_id and 29948 unique features for the text. The frequency for the lang_id is 3000 and 17 for the text features."
   ]
  },
  {
   "cell_type": "code",
   "execution_count": 7,
   "id": "0a6cac28",
   "metadata": {},
   "outputs": [
    {
     "data": {
      "text/plain": [
       "lang_id    0\n",
       "text       0\n",
       "dtype: int64"
      ]
     },
     "execution_count": 7,
     "metadata": {},
     "output_type": "execute_result"
    }
   ],
   "source": [
    "#Checking for null objects in train data\n",
    "df.isnull().sum()"
   ]
  },
  {
   "cell_type": "markdown",
   "id": "fe8893cd",
   "metadata": {},
   "source": [
    "The dataset has no null features."
   ]
  },
  {
   "cell_type": "code",
   "execution_count": 8,
   "id": "3b65383c",
   "metadata": {},
   "outputs": [],
   "source": [
    "#Checking the length of the characters\n",
    "df_copy['length'] = df_copy['text'].apply(lambda x: len(x))"
   ]
  },
  {
   "cell_type": "code",
   "execution_count": 9,
   "id": "635aafda",
   "metadata": {
    "scrolled": true
   },
   "outputs": [
    {
     "data": {
      "text/plain": [
       "(33000, 2)"
      ]
     },
     "metadata": {},
     "output_type": "display_data"
    }
   ],
   "source": [
    "display(df.shape)"
   ]
  },
  {
   "cell_type": "markdown",
   "id": "3753d202",
   "metadata": {},
   "source": [
    "The dataset has 2 columns and 33000 rows"
   ]
  },
  {
   "cell_type": "code",
   "execution_count": 11,
   "id": "b4038ef6",
   "metadata": {},
   "outputs": [
    {
     "data": {
      "text/html": [
       "<div>\n",
       "<style scoped>\n",
       "    .dataframe tbody tr th:only-of-type {\n",
       "        vertical-align: middle;\n",
       "    }\n",
       "\n",
       "    .dataframe tbody tr th {\n",
       "        vertical-align: top;\n",
       "    }\n",
       "\n",
       "    .dataframe thead th {\n",
       "        text-align: right;\n",
       "    }\n",
       "</style>\n",
       "<table border=\"1\" class=\"dataframe\">\n",
       "  <thead>\n",
       "    <tr style=\"text-align: right;\">\n",
       "      <th></th>\n",
       "      <th>Raw Number</th>\n",
       "      <th>Percentage</th>\n",
       "    </tr>\n",
       "  </thead>\n",
       "  <tbody>\n",
       "    <tr>\n",
       "      <th>afr</th>\n",
       "      <td>3000</td>\n",
       "      <td>0.090909</td>\n",
       "    </tr>\n",
       "    <tr>\n",
       "      <th>tso</th>\n",
       "      <td>3000</td>\n",
       "      <td>0.090909</td>\n",
       "    </tr>\n",
       "    <tr>\n",
       "      <th>sot</th>\n",
       "      <td>3000</td>\n",
       "      <td>0.090909</td>\n",
       "    </tr>\n",
       "    <tr>\n",
       "      <th>ssw</th>\n",
       "      <td>3000</td>\n",
       "      <td>0.090909</td>\n",
       "    </tr>\n",
       "    <tr>\n",
       "      <th>zul</th>\n",
       "      <td>3000</td>\n",
       "      <td>0.090909</td>\n",
       "    </tr>\n",
       "    <tr>\n",
       "      <th>nbl</th>\n",
       "      <td>3000</td>\n",
       "      <td>0.090909</td>\n",
       "    </tr>\n",
       "    <tr>\n",
       "      <th>nso</th>\n",
       "      <td>3000</td>\n",
       "      <td>0.090909</td>\n",
       "    </tr>\n",
       "    <tr>\n",
       "      <th>tsn</th>\n",
       "      <td>3000</td>\n",
       "      <td>0.090909</td>\n",
       "    </tr>\n",
       "    <tr>\n",
       "      <th>ven</th>\n",
       "      <td>3000</td>\n",
       "      <td>0.090909</td>\n",
       "    </tr>\n",
       "    <tr>\n",
       "      <th>xho</th>\n",
       "      <td>3000</td>\n",
       "      <td>0.090909</td>\n",
       "    </tr>\n",
       "    <tr>\n",
       "      <th>eng</th>\n",
       "      <td>3000</td>\n",
       "      <td>0.090909</td>\n",
       "    </tr>\n",
       "  </tbody>\n",
       "</table>\n",
       "</div>"
      ],
      "text/plain": [
       "     Raw Number  Percentage\n",
       "afr        3000    0.090909\n",
       "tso        3000    0.090909\n",
       "sot        3000    0.090909\n",
       "ssw        3000    0.090909\n",
       "zul        3000    0.090909\n",
       "nbl        3000    0.090909\n",
       "nso        3000    0.090909\n",
       "tsn        3000    0.090909\n",
       "ven        3000    0.090909\n",
       "xho        3000    0.090909\n",
       "eng        3000    0.090909"
      ]
     },
     "metadata": {},
     "output_type": "display_data"
    }
   ],
   "source": [
    "value_counts = df[\"lang_id\"].value_counts()\n",
    "value_counts.name = \"Raw Number\"\n",
    "\n",
    "value_normd = df[\"lang_id\"].value_counts(normalize=True)\n",
    "value_normd.name = \"Percentage\"\n",
    "\n",
    "display(pd.concat([value_counts, value_normd], axis=1))"
   ]
  },
  {
   "cell_type": "code",
   "execution_count": 13,
   "id": "73e672c5",
   "metadata": {},
   "outputs": [],
   "source": [
    "from copy import deepcopy\n",
    "df1 = deepcopy(df)"
   ]
  },
  {
   "cell_type": "code",
   "execution_count": 19,
   "id": "fb918464",
   "metadata": {},
   "outputs": [
    {
     "data": {
      "text/html": [
       "<div>\n",
       "<style scoped>\n",
       "    .dataframe tbody tr th:only-of-type {\n",
       "        vertical-align: middle;\n",
       "    }\n",
       "\n",
       "    .dataframe tbody tr th {\n",
       "        vertical-align: top;\n",
       "    }\n",
       "\n",
       "    .dataframe thead th {\n",
       "        text-align: right;\n",
       "    }\n",
       "</style>\n",
       "<table border=\"1\" class=\"dataframe\">\n",
       "  <thead>\n",
       "    <tr style=\"text-align: right;\">\n",
       "      <th></th>\n",
       "      <th>lang_id</th>\n",
       "      <th>text</th>\n",
       "    </tr>\n",
       "  </thead>\n",
       "  <tbody>\n",
       "    <tr>\n",
       "      <th>0</th>\n",
       "      <td>xho</td>\n",
       "      <td>umgaqo-siseko wenza amalungiselelo kumaziko ax...</td>\n",
       "    </tr>\n",
       "    <tr>\n",
       "      <th>1</th>\n",
       "      <td>xho</td>\n",
       "      <td>i-dha iya kuba nobulumko bokubeka umsebenzi na...</td>\n",
       "    </tr>\n",
       "    <tr>\n",
       "      <th>2</th>\n",
       "      <td>eng</td>\n",
       "      <td>the province of kwazulu-natal department of tr...</td>\n",
       "    </tr>\n",
       "    <tr>\n",
       "      <th>3</th>\n",
       "      <td>nso</td>\n",
       "      <td>o netefatša gore o ba file dilo ka moka tše le...</td>\n",
       "    </tr>\n",
       "    <tr>\n",
       "      <th>4</th>\n",
       "      <td>ven</td>\n",
       "      <td>khomishini ya ndinganyiso ya mbeu yo ewa maana...</td>\n",
       "    </tr>\n",
       "  </tbody>\n",
       "</table>\n",
       "</div>"
      ],
      "text/plain": [
       "  lang_id                                               text\n",
       "0     xho  umgaqo-siseko wenza amalungiselelo kumaziko ax...\n",
       "1     xho  i-dha iya kuba nobulumko bokubeka umsebenzi na...\n",
       "2     eng  the province of kwazulu-natal department of tr...\n",
       "3     nso  o netefatša gore o ba file dilo ka moka tše le...\n",
       "4     ven  khomishini ya ndinganyiso ya mbeu yo ewa maana..."
      ]
     },
     "execution_count": 19,
     "metadata": {},
     "output_type": "execute_result"
    }
   ],
   "source": [
    "df1.head()"
   ]
  },
  {
   "cell_type": "code",
   "execution_count": 23,
   "id": "5dc8c1c2",
   "metadata": {},
   "outputs": [
    {
     "data": {
      "image/png": "[encoded data removed]",
      "text/plain": [
       "<Figure size 2000x1000 with 2 Axes>"
      ]
     },
     "metadata": {
      "needs_background": "light"
     },
     "output_type": "display_data"
    }
   ],
   "source": [
    "fig, axes = plt.subplots(1, 2, figsize=(20, 10), dpi=100)\n",
    "\n",
    "sns.countplot(df1[\"lang_id\"], ax=axes[0])\n",
    "\n",
    "\n",
    "fig.suptitle(\"Distribution of Languages\", fontsize=20)\n",
    "plt.show()"
   ]
  },
  {
   "cell_type": "markdown",
   "id": "813119f9",
   "metadata": {},
   "source": [
    "The languages have an equal distribution with each having a count of 3000"
   ]
  },
  {
   "cell_type": "markdown",
   "id": "f3f07116",
   "metadata": {},
   "source": [
    "## Text Cleaning"
   ]
  },
  {
   "cell_type": "code",
   "execution_count": 25,
   "id": "ef7c110f",
   "metadata": {},
   "outputs": [],
   "source": [
    "#Remove Punctuations\n",
    "def _remove_punc(x):\n",
    "    x = re.sub(r'[-]',' ',x)\n",
    "    x = re.sub(r'[_]', ' ', x)\n",
    "    x = re.sub(r'[^\\w\\s]','',x)\n",
    "    x = re.sub('[0-9]+', '', x)\n",
    "    x = re.sub(r'[^\\x00-\\x7f]',r'', x)\n",
    "    return x\n",
    "\n",
    "#Apply the function to the dataset\n",
    "df_copy['clean_punc'] = df_copy['text'].apply(_remove_punc)"
   ]
  },
  {
   "cell_type": "code",
   "execution_count": 27,
   "id": "ab7fb85d",
   "metadata": {},
   "outputs": [],
   "source": [
    "#Making the characters in the text a lower case\n",
    "def _lower(x):\n",
    "    return x.lower()\n",
    "df_copy['lower'] = df_copy['clean_punc'].apply(_lower)"
   ]
  },
  {
   "cell_type": "code",
   "execution_count": 30,
   "id": "d86c52b7",
   "metadata": {},
   "outputs": [],
   "source": [
    "from nlppreprocess import NLP"
   ]
  },
  {
   "cell_type": "code",
   "execution_count": 31,
   "id": "6e9a8055",
   "metadata": {},
   "outputs": [],
   "source": [
    "#Remove Stopwords\n",
    "stopword = nltk.corpus.stopwords.words('english')\n",
    "def remove_stopwords(x):\n",
    "    stopwords = NLP(replace_words=True, remove_stopwords=True, \n",
    "                            remove_numbers=True, remove_punctuations=False) \n",
    "    x = stopwords.process(x)\n",
    "    return x\n",
    "\n",
    "#Applying the function to the dataset   \n",
    "df_copy['Text_nonstop'] = df_copy['lower'].apply(lambda x: remove_stopwords(x))"
   ]
  },
  {
   "cell_type": "markdown",
   "id": "5d562a26",
   "metadata": {},
   "source": [
    "The function above removed english stopwords in the dataset to reduce noise."
   ]
  },
  {
   "cell_type": "code",
   "execution_count": 35,
   "id": "028a76f5",
   "metadata": {},
   "outputs": [],
   "source": [
    "def _analyzer (l):\n",
    "    l = _remove_punc(l)\n",
    "    l = _lower(l)\n",
    "    l = remove_stopwords(l)\n",
    "    return l"
   ]
  },
  {
   "cell_type": "markdown",
   "id": "56f2cf6f",
   "metadata": {},
   "source": [
    "The above function combines all the cleaning operations applied to the dataset and returns a dataset in lower case, no punctuations and with no stopwords"
   ]
  },
  {
   "cell_type": "code",
   "execution_count": 36,
   "id": "cad5b47d",
   "metadata": {
    "scrolled": true
   },
   "outputs": [
    {
     "data": {
      "text/html": [
       "<div>\n",
       "<style scoped>\n",
       "    .dataframe tbody tr th:only-of-type {\n",
       "        vertical-align: middle;\n",
       "    }\n",
       "\n",
       "    .dataframe tbody tr th {\n",
       "        vertical-align: top;\n",
       "    }\n",
       "\n",
       "    .dataframe thead th {\n",
       "        text-align: right;\n",
       "    }\n",
       "</style>\n",
       "<table border=\"1\" class=\"dataframe\">\n",
       "  <thead>\n",
       "    <tr style=\"text-align: right;\">\n",
       "      <th></th>\n",
       "      <th>lang_id</th>\n",
       "      <th>text</th>\n",
       "      <th>length</th>\n",
       "      <th>clean_punc</th>\n",
       "      <th>lower</th>\n",
       "      <th>Text_nonstop</th>\n",
       "    </tr>\n",
       "  </thead>\n",
       "  <tbody>\n",
       "    <tr>\n",
       "      <th>0</th>\n",
       "      <td>xho</td>\n",
       "      <td>umgaqo-siseko wenza amalungiselelo kumaziko ax...</td>\n",
       "      <td>220</td>\n",
       "      <td>umgaqo siseko wenza amalungiselelo kumaziko ax...</td>\n",
       "      <td>umgaqo siseko wenza amalungiselelo kumaziko ax...</td>\n",
       "      <td>umgaqo siseko wenza amalungiselelo kumaziko ax...</td>\n",
       "    </tr>\n",
       "    <tr>\n",
       "      <th>1</th>\n",
       "      <td>xho</td>\n",
       "      <td>i-dha iya kuba nobulumko bokubeka umsebenzi na...</td>\n",
       "      <td>252</td>\n",
       "      <td>i dha iya kuba nobulumko bokubeka umsebenzi na...</td>\n",
       "      <td>i dha iya kuba nobulumko bokubeka umsebenzi na...</td>\n",
       "      <td>dha iya kuba nobulumko bokubeka umsebenzi naph...</td>\n",
       "    </tr>\n",
       "    <tr>\n",
       "      <th>2</th>\n",
       "      <td>eng</td>\n",
       "      <td>the province of kwazulu-natal department of tr...</td>\n",
       "      <td>264</td>\n",
       "      <td>the province of kwazulu natal department of tr...</td>\n",
       "      <td>the province of kwazulu natal department of tr...</td>\n",
       "      <td>province kwazulu natal department transport in...</td>\n",
       "    </tr>\n",
       "    <tr>\n",
       "      <th>3</th>\n",
       "      <td>nso</td>\n",
       "      <td>o netefatša gore o ba file dilo ka moka tše le...</td>\n",
       "      <td>217</td>\n",
       "      <td>o netefata gore o ba file dilo ka moka te le d...</td>\n",
       "      <td>o netefata gore o ba file dilo ka moka te le d...</td>\n",
       "      <td>o netefata gore o ba file dilo ka moka te le d...</td>\n",
       "    </tr>\n",
       "    <tr>\n",
       "      <th>4</th>\n",
       "      <td>ven</td>\n",
       "      <td>khomishini ya ndinganyiso ya mbeu yo ewa maana...</td>\n",
       "      <td>239</td>\n",
       "      <td>khomishini ya ndinganyiso ya mbeu yo ewa maana...</td>\n",
       "      <td>khomishini ya ndinganyiso ya mbeu yo ewa maana...</td>\n",
       "      <td>khomishini ya ndinganyiso ya mbeu yo ewa maana...</td>\n",
       "    </tr>\n",
       "  </tbody>\n",
       "</table>\n",
       "</div>"
      ],
      "text/plain": [
       "  lang_id                                               text  length  \\\n",
       "0     xho  umgaqo-siseko wenza amalungiselelo kumaziko ax...     220   \n",
       "1     xho  i-dha iya kuba nobulumko bokubeka umsebenzi na...     252   \n",
       "2     eng  the province of kwazulu-natal department of tr...     264   \n",
       "3     nso  o netefatša gore o ba file dilo ka moka tše le...     217   \n",
       "4     ven  khomishini ya ndinganyiso ya mbeu yo ewa maana...     239   \n",
       "\n",
       "                                          clean_punc  \\\n",
       "0  umgaqo siseko wenza amalungiselelo kumaziko ax...   \n",
       "1  i dha iya kuba nobulumko bokubeka umsebenzi na...   \n",
       "2  the province of kwazulu natal department of tr...   \n",
       "3  o netefata gore o ba file dilo ka moka te le d...   \n",
       "4  khomishini ya ndinganyiso ya mbeu yo ewa maana...   \n",
       "\n",
       "                                               lower  \\\n",
       "0  umgaqo siseko wenza amalungiselelo kumaziko ax...   \n",
       "1  i dha iya kuba nobulumko bokubeka umsebenzi na...   \n",
       "2  the province of kwazulu natal department of tr...   \n",
       "3  o netefata gore o ba file dilo ka moka te le d...   \n",
       "4  khomishini ya ndinganyiso ya mbeu yo ewa maana...   \n",
       "\n",
       "                                        Text_nonstop  \n",
       "0  umgaqo siseko wenza amalungiselelo kumaziko ax...  \n",
       "1  dha iya kuba nobulumko bokubeka umsebenzi naph...  \n",
       "2  province kwazulu natal department transport in...  \n",
       "3  o netefata gore o ba file dilo ka moka te le d...  \n",
       "4  khomishini ya ndinganyiso ya mbeu yo ewa maana...  "
      ]
     },
     "execution_count": 36,
     "metadata": {},
     "output_type": "execute_result"
    }
   ],
   "source": [
    "df_copy.head()"
   ]
  },
  {
   "cell_type": "markdown",
   "id": "0aa17eb1",
   "metadata": {},
   "source": [
    "**Applying the analyzer function to both the train and test data to remove punctuations, stopwords and make the texts in lower case**"
   ]
  },
  {
   "cell_type": "code",
   "execution_count": 37,
   "id": "c0bbd50a",
   "metadata": {},
   "outputs": [],
   "source": [
    "df['cleaned'] = df['text'].apply(_analyzer)\n",
    "test_df['cleaned'] = test_df['text'].apply(_analyzer)"
   ]
  },
  {
   "cell_type": "markdown",
   "id": "ac99306d",
   "metadata": {},
   "source": [
    "## Training the Dataset and Applying the Models"
   ]
  },
  {
   "cell_type": "code",
   "execution_count": 39,
   "id": "e473b377",
   "metadata": {},
   "outputs": [],
   "source": [
    "# Splitting  X (indepedent) and Y (target/dependent) variables\n",
    "X = df['cleaned']\n",
    "y = df['lang_id']"
   ]
  },
  {
   "cell_type": "code",
   "execution_count": 40,
   "id": "78e1e5f5",
   "metadata": {},
   "outputs": [],
   "source": [
    "X_train , X_test , y_train , y_test = train_test_split(X , y, stratify=y,\n",
    "                                                       test_size =0.4, \n",
    "                                                       random_state=42)"
   ]
  },
  {
   "cell_type": "markdown",
   "id": "07c0b0ea",
   "metadata": {},
   "source": [
    "The different models that will be applied to the dataset and their performances compared"
   ]
  },
  {
   "cell_type": "code",
   "execution_count": 43,
   "id": "7c43e06c",
   "metadata": {},
   "outputs": [],
   "source": [
    "algo = [LogisticRegression(random_state =42 , max_iter=5000) , \n",
    "       MultinomialNB(), LinearSVC(random_state=42), \n",
    "       SGDClassifier(random_state=42), RidgeClassifier(random_state=42)]"
   ]
  },
  {
   "cell_type": "code",
   "execution_count": 44,
   "id": "92cfc38e",
   "metadata": {},
   "outputs": [],
   "source": [
    "def _performace_assesment(*args , **kwargs):\n",
    "  model_stats = {}\n",
    "  for clf in algo:\n",
    "    model = Pipeline([('tfidf', TfidfVectorizer(stop_words = 'english', max_df=0.9, ngram_range=(1, 5), analyzer= 'char')),\n",
    "                      ('clf' , clf)\n",
    "                      ])\n",
    "    \n",
    "    model.fit(X_train, y_train) #Training\n",
    "    model_pred = model.predict(X_test) #Testing\n",
    "\n",
    "    # Dictionary of Models Performances\n",
    "    model_stats[clf.__class__.__name__] = {\n",
    "        'F1-Macro':metrics.f1_score(y_test, model_pred, average='macro'),\n",
    "        'F1-Accuracy':metrics.f1_score(y_test, model_pred, average='micro'),\n",
    "        'F1-Weighted':metrics.f1_score(y_test, model_pred, average='weighted')}\n",
    "  return pd.DataFrame.from_dict(model_stats, orient='index')"
   ]
  },
  {
   "cell_type": "code",
   "execution_count": 45,
   "id": "a2f413a6",
   "metadata": {},
   "outputs": [
    {
     "data": {
      "text/html": [
       "<div>\n",
       "<style scoped>\n",
       "    .dataframe tbody tr th:only-of-type {\n",
       "        vertical-align: middle;\n",
       "    }\n",
       "\n",
       "    .dataframe tbody tr th {\n",
       "        vertical-align: top;\n",
       "    }\n",
       "\n",
       "    .dataframe thead th {\n",
       "        text-align: right;\n",
       "    }\n",
       "</style>\n",
       "<table border=\"1\" class=\"dataframe\">\n",
       "  <thead>\n",
       "    <tr style=\"text-align: right;\">\n",
       "      <th></th>\n",
       "      <th>F1-Macro</th>\n",
       "      <th>F1-Accuracy</th>\n",
       "      <th>F1-Weighted</th>\n",
       "    </tr>\n",
       "  </thead>\n",
       "  <tbody>\n",
       "    <tr>\n",
       "      <th>MultinomialNB</th>\n",
       "      <td>0.999394</td>\n",
       "      <td>0.999394</td>\n",
       "      <td>0.999394</td>\n",
       "    </tr>\n",
       "    <tr>\n",
       "      <th>RidgeClassifier</th>\n",
       "      <td>0.999167</td>\n",
       "      <td>0.999167</td>\n",
       "      <td>0.999167</td>\n",
       "    </tr>\n",
       "    <tr>\n",
       "      <th>LinearSVC</th>\n",
       "      <td>0.999167</td>\n",
       "      <td>0.999167</td>\n",
       "      <td>0.999167</td>\n",
       "    </tr>\n",
       "    <tr>\n",
       "      <th>SGDClassifier</th>\n",
       "      <td>0.999091</td>\n",
       "      <td>0.999091</td>\n",
       "      <td>0.999091</td>\n",
       "    </tr>\n",
       "    <tr>\n",
       "      <th>LogisticRegression</th>\n",
       "      <td>0.998183</td>\n",
       "      <td>0.998182</td>\n",
       "      <td>0.998183</td>\n",
       "    </tr>\n",
       "  </tbody>\n",
       "</table>\n",
       "</div>"
      ],
      "text/plain": [
       "                    F1-Macro  F1-Accuracy  F1-Weighted\n",
       "MultinomialNB       0.999394     0.999394     0.999394\n",
       "RidgeClassifier     0.999167     0.999167     0.999167\n",
       "LinearSVC           0.999167     0.999167     0.999167\n",
       "SGDClassifier       0.999091     0.999091     0.999091\n",
       "LogisticRegression  0.998183     0.998182     0.998183"
      ]
     },
     "execution_count": 45,
     "metadata": {},
     "output_type": "execute_result"
    }
   ],
   "source": [
    "performance = _performace_assesment(algo , X_train , X_test , y_train , y_test)\n",
    "performance.to_csv('performance.csv')\n",
    "dataframe = pd.read_csv('performance.csv', index_col = 0)\n",
    "dataframe.sort_values('F1-Weighted', ascending=False)"
   ]
  },
  {
   "cell_type": "markdown",
   "id": "4aaefb42",
   "metadata": {},
   "source": [
    "## Hyperparameter Tuning and Model Validation"
   ]
  },
  {
   "cell_type": "markdown",
   "id": "14bce927",
   "metadata": {},
   "source": [
    "Hyperparameter tuning is the method of choosing a set of optimal hyperparameters for a learning algorithm. A hyperparameter, on the other hand, is a variable or argument whose value is set before the training process begins. Hyperparameter tuning finds a tuple of hyperparameters that yields an optimal model which minimizes a predefined loss function on given data."
   ]
  },
  {
   "cell_type": "code",
   "execution_count": 46,
   "id": "caca4470",
   "metadata": {},
   "outputs": [],
   "source": [
    "def _param_tuning(*args , **kwargs):\n",
    "  best_params = {}\n",
    "\n",
    "  for clf in algo:\n",
    "    model = Pipeline([('tfidf', TfidfVectorizer(stop_words = 'english', max_df=0.9, ngram_range=(1, 5), analyzer= 'char')),\n",
    "                      ('clf' , clf)])\n",
    "    model.fit(X_train, y_train) #Training\n",
    "    \n",
    "    #Get models performing parameters\n",
    "    params = model.get_params()\n",
    "    model_name = clf.__class__.__name__ \n",
    "    model_name = {}\n",
    "    for key in params:\n",
    "      if key.startswith(\"clf\"):\n",
    "        if len(key) < 5:\n",
    "          model_name['model'] = params[key]\n",
    "        else:\n",
    "            model_name[key[5:]] = params[key]\n",
    "    best_params[clf.__class__.__name__] = model_name\n",
    "  return best_params"
   ]
  },
  {
   "cell_type": "code",
   "execution_count": 47,
   "id": "6a5ccf30",
   "metadata": {},
   "outputs": [],
   "source": [
    "best_params = _param_tuning(algo, X_train, y_train)"
   ]
  },
  {
   "cell_type": "code",
   "execution_count": 48,
   "id": "35c35b48",
   "metadata": {},
   "outputs": [
    {
     "data": {
      "text/plain": [
       "{'LogisticRegression': {'model': LogisticRegression(max_iter=5000, random_state=42),\n",
       "  'C': 1.0,\n",
       "  'class_weight': None,\n",
       "  'dual': False,\n",
       "  'fit_intercept': True,\n",
       "  'intercept_scaling': 1,\n",
       "  'l1_ratio': None,\n",
       "  'max_iter': 5000,\n",
       "  'multi_class': 'auto',\n",
       "  'n_jobs': None,\n",
       "  'penalty': 'l2',\n",
       "  'random_state': 42,\n",
       "  'solver': 'lbfgs',\n",
       "  'tol': 0.0001,\n",
       "  'verbose': 0,\n",
       "  'warm_start': False},\n",
       " 'MultinomialNB': {'model': MultinomialNB(),\n",
       "  'alpha': 1.0,\n",
       "  'class_prior': None,\n",
       "  'fit_prior': True},\n",
       " 'LinearSVC': {'model': LinearSVC(random_state=42),\n",
       "  'C': 1.0,\n",
       "  'class_weight': None,\n",
       "  'dual': True,\n",
       "  'fit_intercept': True,\n",
       "  'intercept_scaling': 1,\n",
       "  'loss': 'squared_hinge',\n",
       "  'max_iter': 1000,\n",
       "  'multi_class': 'ovr',\n",
       "  'penalty': 'l2',\n",
       "  'random_state': 42,\n",
       "  'tol': 0.0001,\n",
       "  'verbose': 0},\n",
       " 'SGDClassifier': {'model': SGDClassifier(random_state=42),\n",
       "  'alpha': 0.0001,\n",
       "  'average': False,\n",
       "  'class_weight': None,\n",
       "  'early_stopping': False,\n",
       "  'epsilon': 0.1,\n",
       "  'eta0': 0.0,\n",
       "  'fit_intercept': True,\n",
       "  'l1_ratio': 0.15,\n",
       "  'learning_rate': 'optimal',\n",
       "  'loss': 'hinge',\n",
       "  'max_iter': 1000,\n",
       "  'n_iter_no_change': 5,\n",
       "  'n_jobs': None,\n",
       "  'penalty': 'l2',\n",
       "  'power_t': 0.5,\n",
       "  'random_state': 42,\n",
       "  'shuffle': True,\n",
       "  'tol': 0.001,\n",
       "  'validation_fraction': 0.1,\n",
       "  'verbose': 0,\n",
       "  'warm_start': False},\n",
       " 'RidgeClassifier': {'model': RidgeClassifier(random_state=42),\n",
       "  'alpha': 1.0,\n",
       "  'class_weight': None,\n",
       "  'copy_X': True,\n",
       "  'fit_intercept': True,\n",
       "  'max_iter': None,\n",
       "  'normalize': 'deprecated',\n",
       "  'positive': False,\n",
       "  'random_state': 42,\n",
       "  'solver': 'auto',\n",
       "  'tol': 0.001}}"
      ]
     },
     "execution_count": 48,
     "metadata": {},
     "output_type": "execute_result"
    }
   ],
   "source": [
    "#Best parameters\n",
    "best_params"
   ]
  },
  {
   "cell_type": "markdown",
   "id": "69f47b01",
   "metadata": {},
   "source": [
    "## Modelling"
   ]
  },
  {
   "cell_type": "code",
   "execution_count": 53,
   "id": "10e156d4",
   "metadata": {},
   "outputs": [],
   "source": [
    "#model\n",
    "model1 = MultinomialNB()"
   ]
  },
  {
   "cell_type": "markdown",
   "id": "2e9668c3",
   "metadata": {},
   "source": [
    "The first modelling used was **Multinomial Naive Bayes Classifier**. It is suitable for classification with discrete features (e.g., word counts for text classification). "
   ]
  },
  {
   "cell_type": "code",
   "execution_count": 54,
   "id": "e95259c9",
   "metadata": {},
   "outputs": [],
   "source": [
    "Vectorize = TfidfVectorizer(stop_words = 'english', max_df=0.9, ngram_range=(1, 5), analyzer= 'char')\n",
    "X_train = Vectorize.fit_transform(X_train)\n",
    "X_test = Vectorize.transform(X_test)"
   ]
  },
  {
   "cell_type": "code",
   "execution_count": 55,
   "id": "f25509bc",
   "metadata": {},
   "outputs": [],
   "source": [
    "stratified_kfold = StratifiedKFold(n_splits=5, shuffle=True,\n",
    "                                   random_state=42)"
   ]
  },
  {
   "cell_type": "markdown",
   "id": "d807d390",
   "metadata": {},
   "source": [
    "**Stratified K-Folds cross-validator.**\n",
    "\n",
    "It provides train/test indices to split data in train/test sets.\n",
    "\n",
    "This cross-validation object is a variation of KFold that returns stratified folds. The folds are made by preserving the percentage of samples for each class."
   ]
  },
  {
   "cell_type": "code",
   "execution_count": 56,
   "id": "8bd73457",
   "metadata": {},
   "outputs": [
    {
     "data": {
      "text/plain": [
       "{'model': MultinomialNB(),\n",
       " 'alpha': 1.0,\n",
       " 'class_prior': None,\n",
       " 'fit_prior': True}"
      ]
     },
     "execution_count": 56,
     "metadata": {},
     "output_type": "execute_result"
    }
   ],
   "source": [
    "best_params[alg[1].__class__.__name__]"
   ]
  },
  {
   "cell_type": "code",
   "execution_count": 57,
   "id": "b9d9a32a",
   "metadata": {},
   "outputs": [],
   "source": [
    "alpha = list(np.linspace(0.1,0.02,4))\n",
    "param_grid = dict(alpha=alpha)\n",
    "grid_search = GridSearchCV(estimator= model1,\n",
    "                           param_grid=param_grid,\n",
    "                           scoring='f1_weighted',\n",
    "                           cv=stratified_kfold,\n",
    "                           error_score=0,\n",
    "                           n_jobs=-1)"
   ]
  },
  {
   "cell_type": "code",
   "execution_count": 58,
   "id": "c61c5ad1",
   "metadata": {},
   "outputs": [],
   "source": [
    "grid_search.fit(X_train, y_train)\n",
    "prediction = grid_search.predict(X_test)\n",
    "cv_score = grid_search.best_score_\n",
    "test_score = grid_search.score(X_test, y_test)"
   ]
  },
  {
   "cell_type": "code",
   "execution_count": 59,
   "id": "2689a5eb",
   "metadata": {},
   "outputs": [
    {
     "name": "stdout",
     "output_type": "stream",
     "text": [
      "Cross-validation score: 0.9996969686252897\n",
      "Test score: 0.9995455174533855\n"
     ]
    },
    {
     "data": {
      "text/plain": [
       "MultinomialNB(alpha=0.04666666666666667)"
      ]
     },
     "execution_count": 59,
     "metadata": {},
     "output_type": "execute_result"
    }
   ],
   "source": [
    "print(f'Cross-validation score: {cv_score}')\n",
    "print(f'Test score: {test_score}')\n",
    "grid_search.best_params_    \n",
    "grid_search.best_estimator_"
   ]
  },
  {
   "cell_type": "code",
   "execution_count": 60,
   "id": "dda4917b",
   "metadata": {},
   "outputs": [],
   "source": [
    "#model\n",
    "model2 = RidgeClassifier()"
   ]
  },
  {
   "cell_type": "markdown",
   "id": "8cecdf7b",
   "metadata": {},
   "source": [
    "The second model applied to the dataset was **Ridge Classifier**\n",
    "\n",
    "This classifier first converts the target values into {-1, 1} and then treats the problem as a regression task (multi-output regression in the multiclass case)."
   ]
  },
  {
   "cell_type": "code",
   "execution_count": 61,
   "id": "a14f6bb0",
   "metadata": {},
   "outputs": [
    {
     "data": {
      "text/plain": [
       "{'model': RidgeClassifier(random_state=42),\n",
       " 'alpha': 1.0,\n",
       " 'class_weight': None,\n",
       " 'copy_X': True,\n",
       " 'fit_intercept': True,\n",
       " 'max_iter': None,\n",
       " 'normalize': 'deprecated',\n",
       " 'positive': False,\n",
       " 'random_state': 42,\n",
       " 'solver': 'auto',\n",
       " 'tol': 0.001}"
      ]
     },
     "execution_count": 61,
     "metadata": {},
     "output_type": "execute_result"
    }
   ],
   "source": [
    "best_params[alg[4].__class__.__name__]"
   ]
  },
  {
   "cell_type": "code",
   "execution_count": 62,
   "id": "cf1a78a3",
   "metadata": {},
   "outputs": [],
   "source": [
    "alpha = list(np.linspace(0.15,0.4, 5))\n",
    "param_grid = dict(alpha=alpha)\n",
    "grid_search = GridSearchCV(estimator= model2,\n",
    "                           param_grid=param_grid,\n",
    "                           scoring='f1_weighted',\n",
    "                           cv=stratified_kfold,\n",
    "                           error_score=0,\n",
    "                           n_jobs=-1)"
   ]
  },
  {
   "cell_type": "code",
   "execution_count": 63,
   "id": "4d65545c",
   "metadata": {},
   "outputs": [],
   "source": [
    "grid_search.fit(X_train, y_train)\n",
    "prediction = grid_search.predict(X_test)\n",
    "cv_score = grid_search.best_score_\n",
    "test_score = grid_search.score(X_test, y_test)"
   ]
  },
  {
   "cell_type": "code",
   "execution_count": 64,
   "id": "92c29809",
   "metadata": {
    "scrolled": false
   },
   "outputs": [
    {
     "name": "stdout",
     "output_type": "stream",
     "text": [
      "Cross-validation score: 0.9994949477404799\n",
      "Test score: 0.9990909717224429\n"
     ]
    },
    {
     "data": {
      "text/plain": [
       "RidgeClassifier(alpha=0.275)"
      ]
     },
     "execution_count": 64,
     "metadata": {},
     "output_type": "execute_result"
    }
   ],
   "source": [
    "print(f'Cross-validation score: {cv_score}')\n",
    "print(f'Test score: {test_score}')\n",
    "grid_search.best_params_    \n",
    "grid_search.best_estimator_"
   ]
  },
  {
   "cell_type": "markdown",
   "id": "42300ae5",
   "metadata": {},
   "source": [
    "## Predictions"
   ]
  },
  {
   "cell_type": "markdown",
   "id": "1fd32b2e",
   "metadata": {},
   "source": [
    "**Stack Classifier**\n",
    "\n",
    "Stacked generalization consists in stacking the output of individual estimator and use a classifier to compute the final prediction. Stacking allows to use the strength of each individual estimator by using their output as input of a final estimator.\n",
    "\n",
    "Note that estimators_ are fitted on the full X while final_estimator_ is trained using cross-validated predictions of the base estimators using cross_val_predict."
   ]
  },
  {
   "cell_type": "code",
   "execution_count": 65,
   "id": "a36cb983",
   "metadata": {},
   "outputs": [],
   "source": [
    "from sklearn.ensemble import StackingClassifier\n",
    "from sklearn.pipeline import make_pipeline"
   ]
  },
  {
   "cell_type": "code",
   "execution_count": 66,
   "id": "4e2d69c8",
   "metadata": {},
   "outputs": [],
   "source": [
    "X_train , X_test , y_train , y_test = train_test_split(X, y,  stratify=y, test_size=0.4, random_state =1)"
   ]
  },
  {
   "cell_type": "code",
   "execution_count": 67,
   "id": "8d3e33b0",
   "metadata": {},
   "outputs": [],
   "source": [
    "vect = TfidfVectorizer(stop_words = 'english', max_df=0.9, ngram_range=(2, 6), analyzer= 'char')\n",
    "X_train = vect.fit_transform(X_train)\n",
    "X_test = vect.transform(X_test)"
   ]
  },
  {
   "cell_type": "code",
   "execution_count": 68,
   "id": "085f941e",
   "metadata": {},
   "outputs": [],
   "source": [
    "multiNB1 = MultinomialNB(alpha=0.1)\n",
    "multiNB2 = MultinomialNB(alpha=0.1)\n",
    "\n",
    "estimators = [('multiNB1', multiNB1), ('multiNB2', multiNB2)]\n",
    "final_est = RidgeClassifier(alpha=0.2125)"
   ]
  },
  {
   "cell_type": "code",
   "execution_count": 69,
   "id": "9a1e0cd3",
   "metadata": {},
   "outputs": [],
   "source": [
    "stacking_NB2 = StackingClassifier(estimators = estimators,\n",
    "                           final_estimator = final_est,\n",
    "                           passthrough = True)"
   ]
  },
  {
   "cell_type": "code",
   "execution_count": 70,
   "id": "609a7605",
   "metadata": {},
   "outputs": [
    {
     "data": {
      "text/plain": [
       "StackingClassifier(estimators=[('multiNB1', MultinomialNB(alpha=0.1)),\n",
       "                               ('multiNB2', MultinomialNB(alpha=0.1))],\n",
       "                   final_estimator=RidgeClassifier(alpha=0.2125),\n",
       "                   passthrough=True)"
      ]
     },
     "execution_count": 70,
     "metadata": {},
     "output_type": "execute_result"
    }
   ],
   "source": [
    "stacking_NB2.fit(X_train , y_train)"
   ]
  },
  {
   "cell_type": "code",
   "execution_count": 71,
   "id": "0037b7b7",
   "metadata": {},
   "outputs": [],
   "source": [
    "pred = stacking_NB2.predict(X_test)"
   ]
  },
  {
   "cell_type": "code",
   "execution_count": 72,
   "id": "74c8e611",
   "metadata": {},
   "outputs": [
    {
     "data": {
      "text/html": [
       "<div>\n",
       "<style scoped>\n",
       "    .dataframe tbody tr th:only-of-type {\n",
       "        vertical-align: middle;\n",
       "    }\n",
       "\n",
       "    .dataframe tbody tr th {\n",
       "        vertical-align: top;\n",
       "    }\n",
       "\n",
       "    .dataframe thead th {\n",
       "        text-align: right;\n",
       "    }\n",
       "</style>\n",
       "<table border=\"1\" class=\"dataframe\">\n",
       "  <thead>\n",
       "    <tr style=\"text-align: right;\">\n",
       "      <th></th>\n",
       "      <th>F1-Macro</th>\n",
       "      <th>F1-Accuracy</th>\n",
       "      <th>F1-Weighted</th>\n",
       "    </tr>\n",
       "  </thead>\n",
       "  <tbody>\n",
       "    <tr>\n",
       "      <th>StackingClassifier</th>\n",
       "      <td>0.999773</td>\n",
       "      <td>0.999773</td>\n",
       "      <td>0.999773</td>\n",
       "    </tr>\n",
       "  </tbody>\n",
       "</table>\n",
       "</div>"
      ],
      "text/plain": [
       "                    F1-Macro  F1-Accuracy  F1-Weighted\n",
       "StackingClassifier  0.999773     0.999773     0.999773"
      ]
     },
     "execution_count": 72,
     "metadata": {},
     "output_type": "execute_result"
    }
   ],
   "source": [
    "model_stats = {}\n",
    "model_stats[stacking_NB2.__class__.__name__] = {\n",
    "        'F1-Macro':metrics.f1_score(y_test, pred, average='macro'),\n",
    "        'F1-Accuracy':metrics.f1_score(y_test, pred, average='micro'),\n",
    "        'F1-Weighted':metrics.f1_score(y_test, pred, average='weighted')}\n",
    "pd.DataFrame.from_dict(model_stats, orient='index')"
   ]
  },
  {
   "cell_type": "code",
   "execution_count": 74,
   "id": "4cc85076",
   "metadata": {},
   "outputs": [],
   "source": [
    "count_vec = CountVectorizer(ngram_range=(3,7), analyzer= 'char')\n",
    "X_train , X_test , y_train , y_test = train_test_split(X, y, stratify=y,test_size=0.05, random_state =1)\n",
    "X_train = count_vec.fit_transform(X_train)\n",
    "X_test = count_vec.transform(X_test)"
   ]
  },
  {
   "cell_type": "code",
   "execution_count": 75,
   "id": "b63071c0",
   "metadata": {},
   "outputs": [],
   "source": [
    "multiNB1 = MultinomialNB(alpha=0.1)\n",
    "multiNB2 = MultinomialNB(alpha=0.1)\n",
    "multiNB3 = MultinomialNB(alpha=0.1)\n",
    "\n",
    "estimators = [('multiNB1', multiNB1), ('multiNB2', multiNB2), ('multiNB3', multiNB3)]\n",
    "final_est = RidgeClassifier(alpha=0.2125)"
   ]
  },
  {
   "cell_type": "code",
   "execution_count": 77,
   "id": "1df61a7a",
   "metadata": {},
   "outputs": [],
   "source": [
    "#stacking_NB3 = StackingClassifier(estimators = estimators,\n",
    "                           #final_estimator = final_est,\n",
    "                           #passthrough = True)"
   ]
  },
  {
   "cell_type": "code",
   "execution_count": null,
   "id": "5c0b52ee",
   "metadata": {},
   "outputs": [],
   "source": [
    "#stacking_NB3.fit(X_train , y_train)\n",
    "#I interrupted/stopped this . It took forever but gives better accuracy"
   ]
  },
  {
   "cell_type": "code",
   "execution_count": null,
   "id": "a7529fe6",
   "metadata": {},
   "outputs": [],
   "source": [
    "#pred = stacking_NB3.predict(X_test)"
   ]
  },
  {
   "cell_type": "code",
   "execution_count": 78,
   "id": "94b8bd5b",
   "metadata": {},
   "outputs": [
    {
     "ename": "ValueError",
     "evalue": "Found input variables with inconsistent numbers of samples: [1650, 13200]",
     "output_type": "error",
     "traceback": [
      "\u001b[0;31m---------------------------------------------------------------------------\u001b[0m",
      "\u001b[0;31mValueError\u001b[0m                                Traceback (most recent call last)",
      "\u001b[0;32m<ipython-input-78-4e38f410f3ed>\u001b[0m in \u001b[0;36m<module>\u001b[0;34m\u001b[0m\n\u001b[1;32m      1\u001b[0m \u001b[0mmodel_stats\u001b[0m \u001b[0;34m=\u001b[0m \u001b[0;34m{\u001b[0m\u001b[0;34m}\u001b[0m\u001b[0;34m\u001b[0m\u001b[0;34m\u001b[0m\u001b[0m\n\u001b[1;32m      2\u001b[0m model_stats[stacking_NB3.__class__.__name__] = {\n\u001b[0;32m----> 3\u001b[0;31m         \u001b[0;34m'F1-Macro'\u001b[0m\u001b[0;34m:\u001b[0m\u001b[0mmetrics\u001b[0m\u001b[0;34m.\u001b[0m\u001b[0mf1_score\u001b[0m\u001b[0;34m(\u001b[0m\u001b[0my_test\u001b[0m\u001b[0;34m,\u001b[0m \u001b[0mpred\u001b[0m\u001b[0;34m,\u001b[0m \u001b[0maverage\u001b[0m\u001b[0;34m=\u001b[0m\u001b[0;34m'macro'\u001b[0m\u001b[0;34m)\u001b[0m\u001b[0;34m,\u001b[0m\u001b[0;34m\u001b[0m\u001b[0;34m\u001b[0m\u001b[0m\n\u001b[0m\u001b[1;32m      4\u001b[0m         \u001b[0;34m'F1-Accuracy'\u001b[0m\u001b[0;34m:\u001b[0m\u001b[0mmetrics\u001b[0m\u001b[0;34m.\u001b[0m\u001b[0mf1_score\u001b[0m\u001b[0;34m(\u001b[0m\u001b[0my_test\u001b[0m\u001b[0;34m,\u001b[0m \u001b[0mpred\u001b[0m\u001b[0;34m,\u001b[0m \u001b[0maverage\u001b[0m\u001b[0;34m=\u001b[0m\u001b[0;34m'micro'\u001b[0m\u001b[0;34m)\u001b[0m\u001b[0;34m,\u001b[0m\u001b[0;34m\u001b[0m\u001b[0;34m\u001b[0m\u001b[0m\n\u001b[1;32m      5\u001b[0m         'F1-Weighted':metrics.f1_score(y_test, pred, average='weighted')}\n",
      "\u001b[0;32m~/opt/anaconda3/lib/python3.8/site-packages/sklearn/metrics/_classification.py\u001b[0m in \u001b[0;36mf1_score\u001b[0;34m(y_true, y_pred, labels, pos_label, average, sample_weight, zero_division)\u001b[0m\n\u001b[1;32m   1121\u001b[0m     \u001b[0mmodified\u001b[0m \u001b[0;32mwith\u001b[0m\u001b[0;31m \u001b[0m\u001b[0;31m`\u001b[0m\u001b[0;31m`\u001b[0m\u001b[0mzero_division\u001b[0m\u001b[0;31m`\u001b[0m\u001b[0;31m`\u001b[0m\u001b[0;34m.\u001b[0m\u001b[0;34m\u001b[0m\u001b[0;34m\u001b[0m\u001b[0m\n\u001b[1;32m   1122\u001b[0m     \"\"\"\n\u001b[0;32m-> 1123\u001b[0;31m     return fbeta_score(\n\u001b[0m\u001b[1;32m   1124\u001b[0m         \u001b[0my_true\u001b[0m\u001b[0;34m,\u001b[0m\u001b[0;34m\u001b[0m\u001b[0;34m\u001b[0m\u001b[0m\n\u001b[1;32m   1125\u001b[0m         \u001b[0my_pred\u001b[0m\u001b[0;34m,\u001b[0m\u001b[0;34m\u001b[0m\u001b[0;34m\u001b[0m\u001b[0m\n",
      "\u001b[0;32m~/opt/anaconda3/lib/python3.8/site-packages/sklearn/metrics/_classification.py\u001b[0m in \u001b[0;36mfbeta_score\u001b[0;34m(y_true, y_pred, beta, labels, pos_label, average, sample_weight, zero_division)\u001b[0m\n\u001b[1;32m   1259\u001b[0m     \"\"\"\n\u001b[1;32m   1260\u001b[0m \u001b[0;34m\u001b[0m\u001b[0m\n\u001b[0;32m-> 1261\u001b[0;31m     _, _, f, _ = precision_recall_fscore_support(\n\u001b[0m\u001b[1;32m   1262\u001b[0m         \u001b[0my_true\u001b[0m\u001b[0;34m,\u001b[0m\u001b[0;34m\u001b[0m\u001b[0;34m\u001b[0m\u001b[0m\n\u001b[1;32m   1263\u001b[0m         \u001b[0my_pred\u001b[0m\u001b[0;34m,\u001b[0m\u001b[0;34m\u001b[0m\u001b[0;34m\u001b[0m\u001b[0m\n",
      "\u001b[0;32m~/opt/anaconda3/lib/python3.8/site-packages/sklearn/metrics/_classification.py\u001b[0m in \u001b[0;36mprecision_recall_fscore_support\u001b[0;34m(y_true, y_pred, beta, labels, pos_label, average, warn_for, sample_weight, zero_division)\u001b[0m\n\u001b[1;32m   1542\u001b[0m     \u001b[0;32mif\u001b[0m \u001b[0mbeta\u001b[0m \u001b[0;34m<\u001b[0m \u001b[0;36m0\u001b[0m\u001b[0;34m:\u001b[0m\u001b[0;34m\u001b[0m\u001b[0;34m\u001b[0m\u001b[0m\n\u001b[1;32m   1543\u001b[0m         \u001b[0;32mraise\u001b[0m \u001b[0mValueError\u001b[0m\u001b[0;34m(\u001b[0m\u001b[0;34m\"beta should be >=0 in the F-beta score\"\u001b[0m\u001b[0;34m)\u001b[0m\u001b[0;34m\u001b[0m\u001b[0;34m\u001b[0m\u001b[0m\n\u001b[0;32m-> 1544\u001b[0;31m     \u001b[0mlabels\u001b[0m \u001b[0;34m=\u001b[0m \u001b[0m_check_set_wise_labels\u001b[0m\u001b[0;34m(\u001b[0m\u001b[0my_true\u001b[0m\u001b[0;34m,\u001b[0m \u001b[0my_pred\u001b[0m\u001b[0;34m,\u001b[0m \u001b[0maverage\u001b[0m\u001b[0;34m,\u001b[0m \u001b[0mlabels\u001b[0m\u001b[0;34m,\u001b[0m \u001b[0mpos_label\u001b[0m\u001b[0;34m)\u001b[0m\u001b[0;34m\u001b[0m\u001b[0;34m\u001b[0m\u001b[0m\n\u001b[0m\u001b[1;32m   1545\u001b[0m \u001b[0;34m\u001b[0m\u001b[0m\n\u001b[1;32m   1546\u001b[0m     \u001b[0;31m# Calculate tp_sum, pred_sum, true_sum ###\u001b[0m\u001b[0;34m\u001b[0m\u001b[0;34m\u001b[0m\u001b[0;34m\u001b[0m\u001b[0m\n",
      "\u001b[0;32m~/opt/anaconda3/lib/python3.8/site-packages/sklearn/metrics/_classification.py\u001b[0m in \u001b[0;36m_check_set_wise_labels\u001b[0;34m(y_true, y_pred, average, labels, pos_label)\u001b[0m\n\u001b[1;32m   1346\u001b[0m         \u001b[0;32mraise\u001b[0m \u001b[0mValueError\u001b[0m\u001b[0;34m(\u001b[0m\u001b[0;34m\"average has to be one of \"\u001b[0m \u001b[0;34m+\u001b[0m \u001b[0mstr\u001b[0m\u001b[0;34m(\u001b[0m\u001b[0maverage_options\u001b[0m\u001b[0;34m)\u001b[0m\u001b[0;34m)\u001b[0m\u001b[0;34m\u001b[0m\u001b[0;34m\u001b[0m\u001b[0m\n\u001b[1;32m   1347\u001b[0m \u001b[0;34m\u001b[0m\u001b[0m\n\u001b[0;32m-> 1348\u001b[0;31m     \u001b[0my_type\u001b[0m\u001b[0;34m,\u001b[0m \u001b[0my_true\u001b[0m\u001b[0;34m,\u001b[0m \u001b[0my_pred\u001b[0m \u001b[0;34m=\u001b[0m \u001b[0m_check_targets\u001b[0m\u001b[0;34m(\u001b[0m\u001b[0my_true\u001b[0m\u001b[0;34m,\u001b[0m \u001b[0my_pred\u001b[0m\u001b[0;34m)\u001b[0m\u001b[0;34m\u001b[0m\u001b[0;34m\u001b[0m\u001b[0m\n\u001b[0m\u001b[1;32m   1349\u001b[0m     \u001b[0;31m# Convert to Python primitive type to avoid NumPy type / Python str\u001b[0m\u001b[0;34m\u001b[0m\u001b[0;34m\u001b[0m\u001b[0;34m\u001b[0m\u001b[0m\n\u001b[1;32m   1350\u001b[0m     \u001b[0;31m# comparison. See https://github.com/numpy/numpy/issues/6784\u001b[0m\u001b[0;34m\u001b[0m\u001b[0;34m\u001b[0m\u001b[0;34m\u001b[0m\u001b[0m\n",
      "\u001b[0;32m~/opt/anaconda3/lib/python3.8/site-packages/sklearn/metrics/_classification.py\u001b[0m in \u001b[0;36m_check_targets\u001b[0;34m(y_true, y_pred)\u001b[0m\n\u001b[1;32m     82\u001b[0m     \u001b[0my_pred\u001b[0m \u001b[0;34m:\u001b[0m \u001b[0marray\u001b[0m \u001b[0;32mor\u001b[0m \u001b[0mindicator\u001b[0m \u001b[0mmatrix\u001b[0m\u001b[0;34m\u001b[0m\u001b[0;34m\u001b[0m\u001b[0m\n\u001b[1;32m     83\u001b[0m     \"\"\"\n\u001b[0;32m---> 84\u001b[0;31m     \u001b[0mcheck_consistent_length\u001b[0m\u001b[0;34m(\u001b[0m\u001b[0my_true\u001b[0m\u001b[0;34m,\u001b[0m \u001b[0my_pred\u001b[0m\u001b[0;34m)\u001b[0m\u001b[0;34m\u001b[0m\u001b[0;34m\u001b[0m\u001b[0m\n\u001b[0m\u001b[1;32m     85\u001b[0m     \u001b[0mtype_true\u001b[0m \u001b[0;34m=\u001b[0m \u001b[0mtype_of_target\u001b[0m\u001b[0;34m(\u001b[0m\u001b[0my_true\u001b[0m\u001b[0;34m)\u001b[0m\u001b[0;34m\u001b[0m\u001b[0;34m\u001b[0m\u001b[0m\n\u001b[1;32m     86\u001b[0m     \u001b[0mtype_pred\u001b[0m \u001b[0;34m=\u001b[0m \u001b[0mtype_of_target\u001b[0m\u001b[0;34m(\u001b[0m\u001b[0my_pred\u001b[0m\u001b[0;34m)\u001b[0m\u001b[0;34m\u001b[0m\u001b[0;34m\u001b[0m\u001b[0m\n",
      "\u001b[0;32m~/opt/anaconda3/lib/python3.8/site-packages/sklearn/utils/validation.py\u001b[0m in \u001b[0;36mcheck_consistent_length\u001b[0;34m(*arrays)\u001b[0m\n\u001b[1;32m    330\u001b[0m     \u001b[0muniques\u001b[0m \u001b[0;34m=\u001b[0m \u001b[0mnp\u001b[0m\u001b[0;34m.\u001b[0m\u001b[0munique\u001b[0m\u001b[0;34m(\u001b[0m\u001b[0mlengths\u001b[0m\u001b[0;34m)\u001b[0m\u001b[0;34m\u001b[0m\u001b[0;34m\u001b[0m\u001b[0m\n\u001b[1;32m    331\u001b[0m     \u001b[0;32mif\u001b[0m \u001b[0mlen\u001b[0m\u001b[0;34m(\u001b[0m\u001b[0muniques\u001b[0m\u001b[0;34m)\u001b[0m \u001b[0;34m>\u001b[0m \u001b[0;36m1\u001b[0m\u001b[0;34m:\u001b[0m\u001b[0;34m\u001b[0m\u001b[0;34m\u001b[0m\u001b[0m\n\u001b[0;32m--> 332\u001b[0;31m         raise ValueError(\n\u001b[0m\u001b[1;32m    333\u001b[0m             \u001b[0;34m\"Found input variables with inconsistent numbers of samples: %r\"\u001b[0m\u001b[0;34m\u001b[0m\u001b[0;34m\u001b[0m\u001b[0m\n\u001b[1;32m    334\u001b[0m             \u001b[0;34m%\u001b[0m \u001b[0;34m[\u001b[0m\u001b[0mint\u001b[0m\u001b[0;34m(\u001b[0m\u001b[0ml\u001b[0m\u001b[0;34m)\u001b[0m \u001b[0;32mfor\u001b[0m \u001b[0ml\u001b[0m \u001b[0;32min\u001b[0m \u001b[0mlengths\u001b[0m\u001b[0;34m]\u001b[0m\u001b[0;34m\u001b[0m\u001b[0;34m\u001b[0m\u001b[0m\n",
      "\u001b[0;31mValueError\u001b[0m: Found input variables with inconsistent numbers of samples: [1650, 13200]"
     ]
    }
   ],
   "source": [
    "model_stats = {}\n",
    "model_stats[stacking_NB3.__class__.__name__] = {\n",
    "        'F1-Macro':metrics.f1_score(y_test, pred, average='macro'),\n",
    "        'F1-Accuracy':metrics.f1_score(y_test, pred, average='micro'),\n",
    "        'F1-Weighted':metrics.f1_score(y_test, pred, average='weighted')}\n",
    "pd.DataFrame.from_dict(model_stats, orient='index')"
   ]
  },
  {
   "cell_type": "code",
   "execution_count": 80,
   "id": "ea155444",
   "metadata": {},
   "outputs": [],
   "source": [
    "X = test_df['cleaned']\n",
    "Vectorize = vect.transform(X)"
   ]
  },
  {
   "cell_type": "code",
   "execution_count": 81,
   "id": "706f4c11",
   "metadata": {},
   "outputs": [],
   "source": [
    "test_df['lang_id'] = stacking_NB2.predict(Vectorize)"
   ]
  },
  {
   "cell_type": "markdown",
   "id": "85673a87",
   "metadata": {},
   "source": [
    "## Creating Kaggle Submission"
   ]
  },
  {
   "cell_type": "code",
   "execution_count": 82,
   "id": "57252291",
   "metadata": {},
   "outputs": [
    {
     "data": {
      "text/html": [
       "<div>\n",
       "<style scoped>\n",
       "    .dataframe tbody tr th:only-of-type {\n",
       "        vertical-align: middle;\n",
       "    }\n",
       "\n",
       "    .dataframe tbody tr th {\n",
       "        vertical-align: top;\n",
       "    }\n",
       "\n",
       "    .dataframe thead th {\n",
       "        text-align: right;\n",
       "    }\n",
       "</style>\n",
       "<table border=\"1\" class=\"dataframe\">\n",
       "  <thead>\n",
       "    <tr style=\"text-align: right;\">\n",
       "      <th></th>\n",
       "      <th>index</th>\n",
       "      <th>lang_id</th>\n",
       "    </tr>\n",
       "  </thead>\n",
       "  <tbody>\n",
       "    <tr>\n",
       "      <th>0</th>\n",
       "      <td>1</td>\n",
       "      <td>tsn</td>\n",
       "    </tr>\n",
       "    <tr>\n",
       "      <th>1</th>\n",
       "      <td>2</td>\n",
       "      <td>nbl</td>\n",
       "    </tr>\n",
       "    <tr>\n",
       "      <th>2</th>\n",
       "      <td>3</td>\n",
       "      <td>ven</td>\n",
       "    </tr>\n",
       "    <tr>\n",
       "      <th>3</th>\n",
       "      <td>4</td>\n",
       "      <td>ssw</td>\n",
       "    </tr>\n",
       "    <tr>\n",
       "      <th>4</th>\n",
       "      <td>5</td>\n",
       "      <td>afr</td>\n",
       "    </tr>\n",
       "    <tr>\n",
       "      <th>...</th>\n",
       "      <td>...</td>\n",
       "      <td>...</td>\n",
       "    </tr>\n",
       "    <tr>\n",
       "      <th>5677</th>\n",
       "      <td>5678</td>\n",
       "      <td>eng</td>\n",
       "    </tr>\n",
       "    <tr>\n",
       "      <th>5678</th>\n",
       "      <td>5679</td>\n",
       "      <td>nso</td>\n",
       "    </tr>\n",
       "    <tr>\n",
       "      <th>5679</th>\n",
       "      <td>5680</td>\n",
       "      <td>sot</td>\n",
       "    </tr>\n",
       "    <tr>\n",
       "      <th>5680</th>\n",
       "      <td>5681</td>\n",
       "      <td>sot</td>\n",
       "    </tr>\n",
       "    <tr>\n",
       "      <th>5681</th>\n",
       "      <td>5682</td>\n",
       "      <td>nbl</td>\n",
       "    </tr>\n",
       "  </tbody>\n",
       "</table>\n",
       "<p>5682 rows × 2 columns</p>\n",
       "</div>"
      ],
      "text/plain": [
       "      index lang_id\n",
       "0         1     tsn\n",
       "1         2     nbl\n",
       "2         3     ven\n",
       "3         4     ssw\n",
       "4         5     afr\n",
       "...     ...     ...\n",
       "5677   5678     eng\n",
       "5678   5679     nso\n",
       "5679   5680     sot\n",
       "5680   5681     sot\n",
       "5681   5682     nbl\n",
       "\n",
       "[5682 rows x 2 columns]"
      ]
     },
     "execution_count": 82,
     "metadata": {},
     "output_type": "execute_result"
    }
   ],
   "source": [
    "submission = test_df[['index', 'lang_id']]\n",
    "submission.to_csv('Diana_Okeyo.csv',index=False)\n",
    "submission"
   ]
  },
  {
   "cell_type": "code",
   "execution_count": 84,
   "id": "5dd8e288",
   "metadata": {
    "scrolled": true
   },
   "outputs": [
    {
     "data": {
      "text/html": [
       "<div>\n",
       "<style scoped>\n",
       "    .dataframe tbody tr th:only-of-type {\n",
       "        vertical-align: middle;\n",
       "    }\n",
       "\n",
       "    .dataframe tbody tr th {\n",
       "        vertical-align: top;\n",
       "    }\n",
       "\n",
       "    .dataframe thead th {\n",
       "        text-align: right;\n",
       "    }\n",
       "</style>\n",
       "<table border=\"1\" class=\"dataframe\">\n",
       "  <thead>\n",
       "    <tr style=\"text-align: right;\">\n",
       "      <th></th>\n",
       "      <th>Unnamed: 0</th>\n",
       "      <th>F1-Macro</th>\n",
       "      <th>F1-Accuracy</th>\n",
       "      <th>F1-Weighted</th>\n",
       "    </tr>\n",
       "  </thead>\n",
       "  <tbody>\n",
       "    <tr>\n",
       "      <th>0</th>\n",
       "      <td>LogisticRegression</td>\n",
       "      <td>0.998183</td>\n",
       "      <td>0.998182</td>\n",
       "      <td>0.998183</td>\n",
       "    </tr>\n",
       "    <tr>\n",
       "      <th>1</th>\n",
       "      <td>MultinomialNB</td>\n",
       "      <td>0.999394</td>\n",
       "      <td>0.999394</td>\n",
       "      <td>0.999394</td>\n",
       "    </tr>\n",
       "    <tr>\n",
       "      <th>2</th>\n",
       "      <td>LinearSVC</td>\n",
       "      <td>0.999167</td>\n",
       "      <td>0.999167</td>\n",
       "      <td>0.999167</td>\n",
       "    </tr>\n",
       "    <tr>\n",
       "      <th>3</th>\n",
       "      <td>SGDClassifier</td>\n",
       "      <td>0.999091</td>\n",
       "      <td>0.999091</td>\n",
       "      <td>0.999091</td>\n",
       "    </tr>\n",
       "    <tr>\n",
       "      <th>4</th>\n",
       "      <td>RidgeClassifier</td>\n",
       "      <td>0.999167</td>\n",
       "      <td>0.999167</td>\n",
       "      <td>0.999167</td>\n",
       "    </tr>\n",
       "  </tbody>\n",
       "</table>\n",
       "</div>"
      ],
      "text/plain": [
       "           Unnamed: 0  F1-Macro  F1-Accuracy  F1-Weighted\n",
       "0  LogisticRegression  0.998183     0.998182     0.998183\n",
       "1       MultinomialNB  0.999394     0.999394     0.999394\n",
       "2           LinearSVC  0.999167     0.999167     0.999167\n",
       "3       SGDClassifier  0.999091     0.999091     0.999091\n",
       "4     RidgeClassifier  0.999167     0.999167     0.999167"
      ]
     },
     "execution_count": 84,
     "metadata": {},
     "output_type": "execute_result"
    }
   ],
   "source": [
    "perf_df = pd.read_csv('performance.csv')\n",
    "perf_df.head()"
   ]
  },
  {
   "cell_type": "code",
   "execution_count": null,
   "id": "b307c068",
   "metadata": {},
   "outputs": [],
   "source": []
  }
 ],
 "metadata": {
  "kernelspec": {
   "display_name": "Python 3",
   "language": "python",
   "name": "python3"
  },
  "language_info": {
   "codemirror_mode": {
    "name": "ipython",
    "version": 3
   },
   "file_extension": ".py",
   "mimetype": "text/x-python",
   "name": "python",
   "nbconvert_exporter": "python",
   "pygments_lexer": "ipython3",
   "version": "3.8.8"
  }
 },
 "nbformat": 4,
 "nbformat_minor": 5
}
